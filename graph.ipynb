{
 "cells": [
  {
   "cell_type": "markdown",
   "id": "868c836a",
   "metadata": {},
   "source": [
    "## clone graph"
   ]
  },
  {
   "cell_type": "code",
   "execution_count": 2,
   "id": "2b0af69b",
   "metadata": {},
   "outputs": [
    {
     "name": "stdout",
     "output_type": "stream",
     "text": [
      "1\n",
      "2\n",
      "3\n",
      "4\n"
     ]
    }
   ],
   "source": [
    "from typing import Optional\n",
    "\n",
    "class Node:\n",
    "    def __init__(self, val=0, neighbors=None):\n",
    "        self.val = val\n",
    "        self.neighbors = neighbors if neighbors is not None else []\n",
    "\n",
    "def createGraph(adjList):\n",
    "    nodes = {}\n",
    "    for val, neighbors in enumerate(adjList, start=1):\n",
    "        node = Node(val)\n",
    "        nodes[val] = node\n",
    "    for val, neighbors in enumerate(adjList, start=1):\n",
    "        node = nodes[val]\n",
    "        for neighbor_val in neighbors:\n",
    "            node.neighbors.append(nodes[neighbor_val])\n",
    "\n",
    "    return nodes[1] if nodes else None\n",
    "\n",
    "def traverseGraph(node, visited):\n",
    "    if node is None or node.val in visited:\n",
    "        return\n",
    "    visited.add(node.val)\n",
    "    print(node.val)\n",
    "    for neighbor in node.neighbors:\n",
    "        traverseGraph(neighbor, visited)\n",
    "\n",
    "adjList = [[2, 4], [1, 3], [2, 4], [1, 3]]\n",
    "original = createGraph(adjList)\n",
    "traverseGraph(original, set())"
   ]
  },
  {
   "cell_type": "code",
   "execution_count": 5,
   "id": "99e0975d",
   "metadata": {},
   "outputs": [
    {
     "name": "stdout",
     "output_type": "stream",
     "text": [
      "1\n",
      "2\n",
      "3\n",
      "4\n"
     ]
    }
   ],
   "source": [
    "class Solution:\n",
    "    def cloneGraph(self, node: Optional['Node']) -> Optional['Node']:\n",
    "        oldToNew = {}\n",
    "        def clone_recursive(node):\n",
    "            if node in oldToNew:\n",
    "                return oldToNew[node]\n",
    "            copy = Node(node.val)\n",
    "            # map original node to it's copy\n",
    "            oldToNew[node] = copy\n",
    "            # make copies of every neighbors of original node\n",
    "            for nei in node.neighbors:\n",
    "                copy.neighbors.append(clone_recursive(nei))\n",
    "            return copy\n",
    "        return clone_recursive(node) if node else None\n",
    "    \n",
    "# Clone the graph\n",
    "clonedGraph = Solution().cloneGraph(original)\n",
    "traverseGraph(clonedGraph, set())"
   ]
  },
  {
   "cell_type": "code",
   "execution_count": null,
   "id": "15d69af9",
   "metadata": {},
   "outputs": [],
   "source": []
  }
 ],
 "metadata": {
  "kernelspec": {
   "display_name": "Python 3 (ipykernel)",
   "language": "python",
   "name": "python3"
  },
  "language_info": {
   "codemirror_mode": {
    "name": "ipython",
    "version": 3
   },
   "file_extension": ".py",
   "mimetype": "text/x-python",
   "name": "python",
   "nbconvert_exporter": "python",
   "pygments_lexer": "ipython3",
   "version": "3.9.13"
  }
 },
 "nbformat": 4,
 "nbformat_minor": 5
}
