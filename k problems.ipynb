{
 "cells": [
  {
   "cell_type": "code",
   "execution_count": null,
   "id": "615665f0",
   "metadata": {},
   "outputs": [],
   "source": [
    "#####  LEETCODE 23.Merge k Sorted Lists/ [hard]\n",
    "https://leetcode.com/problems/merge-k-sorted-lists/description/\n",
    "\n",
    "<br>\n",
    "<div>\n",
    "<img src=\"attachment:image.png\" width=\"200\" height=\"100\" align=\"left\"/>\n",
    "</div>"
   ]
  }
 ],
 "metadata": {
  "kernelspec": {
   "display_name": "Python 3 (ipykernel)",
   "language": "python",
   "name": "python3"
  },
  "language_info": {
   "codemirror_mode": {
    "name": "ipython",
    "version": 3
   },
   "file_extension": ".py",
   "mimetype": "text/x-python",
   "name": "python",
   "nbconvert_exporter": "python",
   "pygments_lexer": "ipython3",
   "version": "3.9.13"
  }
 },
 "nbformat": 4,
 "nbformat_minor": 5
}
